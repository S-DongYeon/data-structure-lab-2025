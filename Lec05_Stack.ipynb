{
  "nbformat": 4,
  "nbformat_minor": 0,
  "metadata": {
    "colab": {
      "provenance": []
    },
    "kernelspec": {
      "name": "python3",
      "display_name": "Python 3"
    },
    "language_info": {
      "name": "python"
    }
  },
  "cells": [
    {
      "cell_type": "markdown",
      "source": [
        "# Lec 05 : 기본 데이터 구조 Stack"
      ],
      "metadata": {
        "id": "YomrFmBn1PST"
      }
    },
    {
      "cell_type": "code",
      "execution_count": 1,
      "metadata": {
        "id": "y4Xqpxoy1Gpu"
      },
      "outputs": [],
      "source": [
        "class Stack:\n",
        "  def __init__(self):\n",
        "    self.items = []\n",
        "\n",
        "  def is_empty(self):\n",
        "    return self.items == []\n",
        "\n",
        "  def push(self, item):\n",
        "    self.items.append(item)\n",
        "\n",
        "  def pop(self):\n",
        "    return self.items.pop()\n",
        "\n",
        "  def peek(self):\n",
        "    return self.items[-1]\n",
        "\n",
        "  def size(self):\n",
        "    return len(self.items)\n",
        "\n",
        "  def pop_all(self):\n",
        "    self.items.clear()"
      ]
    },
    {
      "cell_type": "code",
      "source": [
        "def par_checker(symbol_string):\n",
        "  s = Stack()\n",
        "  balanced = True\n",
        "  index = 0\n",
        "\n",
        "  while index < len(symbol_string) and balanced:\n",
        "    symbol = symbol_string[index]\n",
        "    if symbol == '(':\n",
        "      s.push(symbol)\n",
        "    else:\n",
        "      if s.is_empty():\n",
        "        balanced = False\n",
        "      else:\n",
        "        s.pop()\n",
        "\n",
        "    index += 1\n",
        "\n",
        "  if balanced and s.is_empty():\n",
        "    return True\n",
        "  else:\n",
        "    return False"
      ],
      "metadata": {
        "id": "qX5Qd5s_2Bjo"
      },
      "execution_count": 3,
      "outputs": []
    },
    {
      "cell_type": "code",
      "source": [
        "test_string = '((())())()'\n",
        "print(par_checker(test_string))\n",
        "\n",
        "test_string2 = '(())())'\n",
        "print(par_checker(test_string2))"
      ],
      "metadata": {
        "colab": {
          "base_uri": "https://localhost:8080/"
        },
        "id": "Iqm1C1dU2lQ7",
        "outputId": "ee41e846-e419-4922-fb11-ccd2451ac9cf"
      },
      "execution_count": 6,
      "outputs": [
        {
          "output_type": "stream",
          "name": "stdout",
          "text": [
            "True\n",
            "False\n"
          ]
        }
      ]
    }
  ]
}