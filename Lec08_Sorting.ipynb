{
  "nbformat": 4,
  "nbformat_minor": 0,
  "metadata": {
    "colab": {
      "provenance": []
    },
    "kernelspec": {
      "name": "python3",
      "display_name": "Python 3"
    },
    "language_info": {
      "name": "python"
    }
  },
  "cells": [
    {
      "cell_type": "markdown",
      "source": [
        "# Insertion Sort"
      ],
      "metadata": {
        "id": "Ed3S4BjTBa10"
      }
    },
    {
      "cell_type": "code",
      "execution_count": null,
      "metadata": {
        "id": "KUGymE5GBFHU"
      },
      "outputs": [],
      "source": [
        "def insertion_sort(a_list):\n",
        "  for index in range(1, len(a_list)):\n",
        "    current_value = a_list[index]\n",
        "    position = index\n",
        "\n",
        "    while position > 0 and a_list[position - 1] > current_value:\n",
        "      a_list[position] = a_list[position - 1]\n",
        "      position = position - 1\n",
        "\n",
        "    a_list[position] = current_value"
      ]
    },
    {
      "cell_type": "code",
      "source": [
        "data = [7, 2, 9, 1, 5, 6]\n",
        "print(\"정렬 전:\", data)"
      ],
      "metadata": {
        "id": "sSTFenBoB9vf",
        "colab": {
          "base_uri": "https://localhost:8080/"
        },
        "outputId": "3c77d900-0d22-448f-ebc8-25dc7a504e18"
      },
      "execution_count": null,
      "outputs": [
        {
          "output_type": "stream",
          "name": "stdout",
          "text": [
            "정렬 전: [7, 2, 9, 1, 5, 6]\n"
          ]
        }
      ]
    },
    {
      "cell_type": "code",
      "source": [
        "insertion_sort(data)\n",
        "print(\"정렬 후:\", data)"
      ],
      "metadata": {
        "colab": {
          "base_uri": "https://localhost:8080/"
        },
        "id": "2Qy_PeyZCrE6",
        "outputId": "58215375-0d50-4e3f-c08f-e511c9d165aa"
      },
      "execution_count": null,
      "outputs": [
        {
          "output_type": "stream",
          "name": "stdout",
          "text": [
            "정렬 후: [1, 2, 5, 6, 7, 9]\n"
          ]
        }
      ]
    },
    {
      "cell_type": "markdown",
      "source": [
        "# Quick Sort\n",
        "\n"
      ],
      "metadata": {
        "id": "W8D89GCIC26h"
      }
    },
    {
      "cell_type": "code",
      "source": [
        "def quick_sort(a_list):\n",
        "  quick_sort_helper(a_list, 0, len(a_list) - 1)\n",
        "\n",
        "def quick_sort_helper(a_list, first, last):\n",
        "  if first < last:\n",
        "    split_point = partition(a_list, first, last)\n",
        "    quick_sort_helper(a_list, first, split_point - 1)\n",
        "    quick_sort_helper(a_list, split_point + 1, last)"
      ],
      "metadata": {
        "id": "nYocqzrIDCQS"
      },
      "execution_count": 7,
      "outputs": []
    },
    {
      "cell_type": "code",
      "source": [
        "def partition(a_list, first, last):\n",
        "  pivot_value = a_list[first]\n",
        "  left_mark = first + 1\n",
        "  right_mark = last\n",
        "  done = False\n",
        "\n",
        "  while not done:\n",
        "    while left_mark <= right_mark and a_list[left_mark] <= pivot_value:\n",
        "      left_mark = left_mark + 1\n",
        "\n",
        "    while a_list[right_mark] >= pivot_value and right_mark >= left_mark:\n",
        "      right_mark = right_mark - 1\n",
        "\n",
        "    if right_mark < left_mark:\n",
        "      done = True\n",
        "    else:\n",
        "      temp = a_list[left_mark]\n",
        "      a_list[left_mark] = a_list[right_mark]\n",
        "      a_list[right_mark] = temp\n",
        "\n",
        "  temp = a_list[first]\n",
        "  a_list[first] = a_list[right_mark]\n",
        "  a_list[right_mark] = temp\n",
        "\n",
        "  return right_mark"
      ],
      "metadata": {
        "id": "6JziS7McDTTf"
      },
      "execution_count": 8,
      "outputs": []
    },
    {
      "cell_type": "code",
      "source": [
        "data_2 = [7, 2, 9, 1, 5, 6]\n",
        "print(\"정렬 전:\", data_2)"
      ],
      "metadata": {
        "colab": {
          "base_uri": "https://localhost:8080/"
        },
        "id": "oJCEC4vRDhnd",
        "outputId": "4399ee0a-735f-4c37-cc06-facfd619b493"
      },
      "execution_count": 13,
      "outputs": [
        {
          "output_type": "stream",
          "name": "stdout",
          "text": [
            "정렬 전: [7, 2, 9, 1, 5, 6]\n"
          ]
        }
      ]
    },
    {
      "cell_type": "code",
      "source": [
        "quick_sort(data_2)\n",
        "print(\"정렬 후:\", data_2)"
      ],
      "metadata": {
        "colab": {
          "base_uri": "https://localhost:8080/"
        },
        "id": "d2LhUAjvDkFN",
        "outputId": "51302371-19e3-4373-b2b9-2cbec00372d1"
      },
      "execution_count": 14,
      "outputs": [
        {
          "output_type": "stream",
          "name": "stdout",
          "text": [
            "정렬 후: [1, 2, 5, 6, 7, 9]\n"
          ]
        }
      ]
    }
  ]
}